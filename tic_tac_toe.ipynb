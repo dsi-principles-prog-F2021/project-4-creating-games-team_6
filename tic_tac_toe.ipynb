{
 "cells": [
  {
   "cell_type": "markdown",
   "metadata": {},
   "source": [
    "# Tic-Tac-Toe"
   ]
  },
  {
   "cell_type": "markdown",
   "metadata": {},
   "source": [
    "To play the game, use play_game()"
   ]
  },
  {
   "cell_type": "code",
   "execution_count": null,
   "metadata": {},
   "outputs": [],
   "source": [
    "import numpy as np # we import numpy so that we can use masking to make some operations cleaner\n",
    "import random as rand # we use random for the computer AI"
   ]
  },
  {
   "cell_type": "markdown",
   "metadata": {},
   "source": [
    "We wil represent our board with a numpy vector of characters"
   ]
  },
  {
   "cell_type": "code",
   "execution_count": null,
   "metadata": {},
   "outputs": [],
   "source": [
    "def clear_board():\n",
    "    return(np.full(9, '-'))"
   ]
  },
  {
   "cell_type": "markdown",
   "metadata": {},
   "source": [
    "We will use print_board to view the board between every move, empty spots are marked by '-'"
   ]
  },
  {
   "cell_type": "code",
   "execution_count": null,
   "metadata": {},
   "outputs": [],
   "source": [
    "def print_board(board):\n",
    "#we cast to tuple here to unwrap the board into args for string formatting\n",
    "    print(\"%c %c %c\\n%c %c %c\\n%c %c %c\\n\" % tuple(board)) "
   ]
  },
  {
   "cell_type": "code",
   "execution_count": null,
   "metadata": {},
   "outputs": [],
   "source": [
    "#since we want the player to input spots in col,row format, but we have a flat list, we use this function\n",
    "def pos_to_index(pos):\n",
    "    return((pos[0]* 3) + pos[1] - 4)"
   ]
  },
  {
   "cell_type": "code",
   "execution_count": null,
   "metadata": {},
   "outputs": [],
   "source": [
    "#This is how we edit the board after each move\n",
    "def one_move(board, mark, pos):\n",
    "    #mark should be a character 'x' or 'o'\n",
    "    board[pos_to_index(pos)] = mark"
   ]
  },
  {
   "cell_type": "markdown",
   "metadata": {},
   "source": [
    "The get_indices function will return the indices of all of a given mark.\n",
    "We will use this function for 3 purposes:\n",
    "\n",
    "To find an empty spot for the computer to play (in rand_empty_pos)\n",
    "\n",
    "To make sure that a player's move is a valid (empty) location (in get_pos_choice))\n",
    "\n",
    "To detect wins (in check win)"
   ]
  },
  {
   "cell_type": "code",
   "execution_count": null,
   "metadata": {},
   "outputs": [],
   "source": [
    "#We use this both to find an empty spot for the computer, to detect wins, and \n",
    "#validate that where the player chooses to play is empty\n",
    "def get_indices(board, mark):\n",
    "    empty_indices = np.arange(0,9)[board == mark]\n",
    "    return empty_indices"
   ]
  },
  {
   "cell_type": "code",
   "execution_count": null,
   "metadata": {},
   "outputs": [],
   "source": [
    "#The computer uses a completely random strategy\n",
    "def rand_empty_pos(board):\n",
    "    index = np.random.choice(get_indices(board, '-'))\n",
    "    return(index//3 + 1, index%3 + 1)"
   ]
  },
  {
   "cell_type": "code",
   "execution_count": null,
   "metadata": {},
   "outputs": [],
   "source": [
    "def check_win(board):\n",
    "    #since we aren't using a matrix, it is easiest to just hardcode the indices that make lines, since\n",
    "    #there are only 8\n",
    "    lines = [[0,1,2], [3,4,5],[6,7,8], #rows\n",
    "        [0,3,6],[1,4,7],[2,5,8],  #columns\n",
    "        [0,4,8],[2,4,6]] #diagonals\n",
    "\n",
    "    #We don't actually need to care about who won here, we will determine that using the turn modulo 2\n",
    "    for mark in ['x','o']:\n",
    "        ind = get_indices(board, mark)\n",
    "        for line in lines:\n",
    "            if(all(x in ind for x in line)):\n",
    "                return(True)\n",
    "    return(False)"
   ]
  },
  {
   "cell_type": "code",
   "execution_count": null,
   "metadata": {},
   "outputs": [],
   "source": [
    "def get_pos_choice(board):\n",
    "    valid_choice = False\n",
    "    while(not valid_choice):\n",
    "        row = input(\"What row do you want to play in?: \")\n",
    "        while row not in [\"1\", \"2\", \"3\"]:\n",
    "            row = input(\"Please pick either 1, 2, or 3: \")\n",
    "        col = input(\"What column do you want to play in?: \")\n",
    "        while col not in [\"1\", \"2\", \"3\"]:\n",
    "            col = input(\"Please pick either 1, 2, or 3: \")\n",
    "        pos = (int(row), int(col))\n",
    "        if(pos_to_index(pos) in get_indices(board, \"-\")):\n",
    "            valid_choice = True\n",
    "        else:\n",
    "            print(\"That spot isn't empty!\")\n",
    "    return(pos)"
   ]
  },
  {
   "cell_type": "code",
   "execution_count": null,
   "metadata": {},
   "outputs": [],
   "source": [
    "def get_play_again():\n",
    "#once the player finishes a game, we ask them if they want to play again\n",
    "    play_again = input(\"Would you like to play again? (y or n): \")\n",
    "    while(play_again not in ['y','n']):\n",
    "        play_again = input(\"Please enter y or n!: \")\n",
    "    return(play_again)"
   ]
  },
  {
   "cell_type": "code",
   "execution_count": null,
   "metadata": {},
   "outputs": [],
   "source": [
    "def play_game():\n",
    "    print(\"Let's play tic-tac-toe!\\n\")\n",
    "    play_again = 'y'\n",
    "    while(play_again == \"y\"):\n",
    "        \n",
    "        #set up or reset the game\n",
    "        board = clear_board()\n",
    "        print_board(board)\n",
    "        turn = 1\n",
    "        player_first = rand.choice([0,1]) #0 is computer goes first, 1 is player goes first\n",
    "        print([\"The computer goes first!\",\"You go first!\"][player_first])\n",
    "        \n",
    "        while(turn <= 9 and check_win(board) == False): #main loop (iterates every turn)\n",
    "            if(turn % 2 == player_first): #player's turn\n",
    "                print(\"It's your turn!\\n\")\n",
    "                pos = get_pos_choice(board)\n",
    "                print(\"\\n\")\n",
    "                one_move(board, 'o', pos) #The player is always 'o'\n",
    "            else: #computers turn\n",
    "                print(\"It's the computer's turn!\\n\")\n",
    "                pos = rand_empty_pos(board)\n",
    "                one_move(board, 'x', pos) #The computer is always 'x'\n",
    "            \n",
    "            print_board(board) #let the player view the board between each turn\n",
    "            turn += 1\n",
    "    \n",
    "        if(check_win(board)):\n",
    "            print([\"The computer won!\\n\", \"You won!\\n\"][(turn + player_first)%2])\n",
    "        else:\n",
    "            print(\"It's a draw!\\n\")\n",
    "        \n",
    "        play_again = get_play_again()"
   ]
  }
 ],
 "metadata": {
  "kernelspec": {
   "display_name": "Python 3",
   "language": "python",
   "name": "python3"
  },
  "language_info": {
   "codemirror_mode": {
    "name": "ipython",
    "version": 3
   },
   "file_extension": ".py",
   "mimetype": "text/x-python",
   "name": "python",
   "nbconvert_exporter": "python",
   "pygments_lexer": "ipython3",
   "version": "3.8.5"
  }
 },
 "nbformat": 4,
 "nbformat_minor": 4
}
